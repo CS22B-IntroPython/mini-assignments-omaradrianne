{
  "cells": [
    {
      "cell_type": "markdown",
      "metadata": {
        "id": "cP32wAV3Yi-4"
      },
      "source": [
        "##**Stack Questions**"
      ]
    },
    {
      "cell_type": "markdown",
      "metadata": {
        "id": "KqdNjm1oY_ss"
      },
      "source": [
        "## Question 1: Write a function to sort a stack."
      ]
    },
    {
      "cell_type": "code",
      "execution_count": 94,
      "metadata": {
        "id": "mb9K46p3Ym0N"
      },
      "outputs": [
        {
          "name": "stdout",
          "output_type": "stream",
          "text": [
            "[3, 23, 31, 34, 92, 98]\n"
          ]
        }
      ],
      "source": [
        "def sort_stack(stack):\n",
        "  # Your code here\n",
        "  stack.sort()\n",
        "  return stack\n",
        "  \n",
        "\n",
        "stack = [34, 3, 31, 98, 92, 23]\n",
        "print(sort_stack(stack))"
      ]
    },
    {
      "cell_type": "markdown",
      "metadata": {
        "id": "jFxb6ss_Whwl"
      },
      "source": [
        "## Question 2: Depict the following image as a list.\n",
        "\n",
        "<img src=\"https://miro.medium.com/max/1050/1*XifPIMxbamGKhz5UAEdz2w.png\">\n",
        "\n",
        "#### Queue\n",
        "1. Add the number 9 to the list.\n",
        "2. Remove the first number (7) from the list.\n",
        "\n",
        "#### Stack\n",
        "3. Add the number 4 to the same list.\n",
        "4. Remove the last number added (4) from the list."
      ]
    },
    {
      "cell_type": "code",
      "execution_count": 95,
      "metadata": {
        "id": "XOm7YLTEWhwm"
      },
      "outputs": [
        {
          "name": "stdout",
          "output_type": "stream",
          "text": [
            "Original list\n",
            "[7, 3, 1, 6, 8]\n",
            "\n",
            "Added the number 9 to the list and removed the first number from the list\n",
            "[3, 1, 6, 8, 9]\n",
            "\n",
            "Added the number 4 to the list\n",
            "[4, 3, 1, 6, 8, 9]\n",
            "\n",
            "Removed the last number added to the list (4)\n",
            "[3, 1, 6, 8, 9]\n"
          ]
        }
      ],
      "source": [
        "#Your Answer:\n",
        "original_list = [7, 3, 1, 6, 8]\n",
        "print(\"Original list\")\n",
        "print(original_list)\n",
        "\n",
        "queue = original_list\n",
        "queue.append(9)\n",
        "queue.pop(0)\n",
        "print(\"\\nAdded the number 9 to the list and removed the first number from the list\")\n",
        "print(queue)\n",
        "\n",
        "stack = queue\n",
        "stack.insert(0, 4)\n",
        "print(\"\\nAdded the number 4 to the list\")\n",
        "print(stack)\n",
        "print(\"\\nRemoved the last number added to the list (4)\")\n",
        "stack.pop(0)\n",
        "print(stack)"
      ]
    },
    {
      "cell_type": "markdown",
      "metadata": {
        "id": "tQ3kgHVtWhwn"
      },
      "source": [
        "#### Question 3: Nodes\n",
        "\n",
        "<img src=\"https://encrypted-tbn0.gstatic.com/images?q=tbn:ANd9GcQW8-twGk0hCILE-muHBnG93hZJh2Qvgs7pVA&s\">\n",
        "\n",
        "1. Use a data structure of your choice to denote the different nodes.\n",
        "\n",
        "2. Create a function that sums all of the \"children\". Test with the node 10 (Expected answer is 37).\n"
      ]
    },
    {
      "cell_type": "code",
      "execution_count": 96,
      "metadata": {
        "id": "UU0rjzjXWhwn"
      },
      "outputs": [
        {
          "name": "stdout",
          "output_type": "stream",
          "text": [
            "\n",
            "27\n"
          ]
        }
      ],
      "source": [
        "#Your Answer:\n",
        "number_tree = {\n",
        "    8: [3, 10],\n",
        "    3: [1, 6],\n",
        "    # 1: [],\n",
        "    6: [4, 7],\n",
        "    # 4: [],\n",
        "    # 7: [],\n",
        "    10: [14],\n",
        "    14: [13],\n",
        "    # 13: [0]\n",
        "}\n",
        "\n",
        "total = 0\n",
        "def children_sum(node):\n",
        "    global total\n",
        "    if node not in number_tree:\n",
        "        return node # Leaf nodes are simply returned\n",
        "\n",
        "    children = number_tree[node]\n",
        "    \n",
        "    left_child = children[0]\n",
        "\n",
        "    total = node + children_sum(left_child)\n",
        "\n",
        "    if len(children) > 1:\n",
        "        right_child = children[1]\n",
        "        total += (children_sum(right_child))\n",
        "\n",
        "    return total\n",
        "\n",
        "\n",
        "print(f\"\\n{children_sum(14)}\")"
      ]
    }
  ],
  "metadata": {
    "colab": {
      "provenance": []
    },
    "hide_input": false,
    "kernelspec": {
      "display_name": "venv",
      "language": "python",
      "name": "python3"
    },
    "language_info": {
      "codemirror_mode": {
        "name": "ipython",
        "version": 3
      },
      "file_extension": ".py",
      "mimetype": "text/x-python",
      "name": "python",
      "nbconvert_exporter": "python",
      "pygments_lexer": "ipython3",
      "version": "3.13.2"
    },
    "toc": {
      "base_numbering": 1,
      "nav_menu": {},
      "number_sections": true,
      "sideBar": true,
      "skip_h1_title": false,
      "title_cell": "Table of Contents",
      "title_sidebar": "Contents",
      "toc_cell": false,
      "toc_position": {},
      "toc_section_display": true,
      "toc_window_display": false
    }
  },
  "nbformat": 4,
  "nbformat_minor": 0
}
